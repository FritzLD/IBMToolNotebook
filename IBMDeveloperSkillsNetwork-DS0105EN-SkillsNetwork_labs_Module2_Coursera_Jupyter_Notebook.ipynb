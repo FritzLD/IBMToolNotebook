{
  "metadata": {
    "kernelspec": {
      "name": "python",
      "display_name": "Pyolite",
      "language": "python"
    },
    "language_info": {
      "codemirror_mode": {
        "name": "python",
        "version": 3
      },
      "file_extension": ".py",
      "mimetype": "text/x-python",
      "name": "python",
      "nbconvert_exporter": "python",
      "pygments_lexer": "ipython3",
      "version": "3.8"
    }
  },
  "nbformat_minor": 4,
  "nbformat": 4,
  "cells": [
    {
      "cell_type": "markdown",
      "source": "<center>\n    <img src=\"https://cf-courses-data.s3.us.cloud-object-storage.appdomain.cloud/IBMDeveloperSkillsNetwork-DS0105EN-SkillsNetwork/labs/Module2/images/SN_web_lightmode.png\" width=\"300\" alt=\"cognitiveclass.ai logo\">\n</center>\n",
      "metadata": {}
    },
    {
      "cell_type": "markdown",
      "source": "# My Jupyter Notebook on IBM Watson Studio \n",
      "metadata": {}
    },
    {
      "cell_type": "markdown",
      "source": "**FREDERICK LAWRENCE DUFF**  \nData Scientist",
      "metadata": {}
    },
    {
      "cell_type": "markdown",
      "source": "_I enjoy data science because it often uncovers the hidden dimensions that already exist. These dimensions can change lives for the better or it may just help me to understand the truth_  \n_The patterns that exist , which i can discover really intrigue me and I love the challenge. It is my strong desire to solve problems that seemed almost beyond my reach just a few years ago._",
      "metadata": {}
    },
    {
      "cell_type": "markdown",
      "source": "### The next cell I will be assigning a variable (a) a numeric value and I will take it times a variable b ( which i will assign a value to ) . \n### I will then assign a new variable ( c) to the output and print it accordingly.",
      "metadata": {}
    },
    {
      "cell_type": "code",
      "source": "a = 2\nb = 4\nc= a * b\nc",
      "metadata": {
        "trusted": true
      },
      "execution_count": 2,
      "outputs": [
        {
          "execution_count": 2,
          "output_type": "execute_result",
          "data": {
            "text/plain": "8"
          },
          "metadata": {}
        }
      ]
    },
    {
      "cell_type": "markdown",
      "source": "* this is a example of strikethrough ~~Today is a good day~~  \n  \nThis is a example of bulleted list \n- Kentucky Basketball is the greatest\n- Kentucky Basketball is the greatest because they have won the most games \n- Kentucky Basketball is the greatest because the fans love Ky Basketball unlike any other\n  \nThis is a example of a hyperlink image in python markdown and of my favorite plane\n![F15 Eagle](https://upload.wikimedia.org/wikipedia/commons/2/25/F-15_eagle_USAF.jpg)\n",
      "metadata": {}
    },
    {
      "cell_type": "code",
      "source": "",
      "metadata": {},
      "execution_count": null,
      "outputs": []
    }
  ]
}