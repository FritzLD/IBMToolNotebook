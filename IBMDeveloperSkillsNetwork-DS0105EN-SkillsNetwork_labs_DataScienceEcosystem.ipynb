{
  "metadata": {
    "language_info": {
      "codemirror_mode": {
        "name": "python",
        "version": 3
      },
      "file_extension": ".py",
      "mimetype": "text/x-python",
      "name": "python",
      "nbconvert_exporter": "python",
      "pygments_lexer": "ipython3",
      "version": "3.8"
    },
    "kernelspec": {
      "name": "python",
      "display_name": "Pyolite",
      "language": "python"
    }
  },
  "nbformat_minor": 4,
  "nbformat": 4,
  "cells": [
    {
      "cell_type": "markdown",
      "source": "# Data Science Tools and Ecosystem",
      "metadata": {}
    },
    {
      "cell_type": "markdown",
      "source": "This is a notebook where we will discuss Data Science and its ecosystem. ",
      "metadata": {}
    },
    {
      "cell_type": "markdown",
      "source": "Popular languages that Data Scientist use frequently are :   \n    1. python  \n    2. R  \n    3. SQL  ",
      "metadata": {}
    },
    {
      "cell_type": "markdown",
      "source": "Common libraries often used by Data Scientist include:  \n1. Pandas- a library for data manipulation\n2. Numpy- a library for numeric computations\n3. Scikit-learn - a library for machine learning that provides tools for data pre-processing , feature selection , model selection and evaluation",
      "metadata": {}
    },
    {
      "cell_type": "markdown",
      "source": "## Data Science Tools\n\n| Tools |\n|-------|\n|Jupyter Notebook |\n|Apache Spark     |\n|Scikit-Learn     |",
      "metadata": {}
    },
    {
      "cell_type": "markdown",
      "source": "### Here are a few examples of evaluating arithmatic expressions in python",
      "metadata": {}
    },
    {
      "cell_type": "code",
      "source": "# This is a simple arithmatic express where we will add 2 integers then will multiply them by the factor of 2 \n(15+7)*2",
      "metadata": {
        "trusted": true
      },
      "execution_count": 3,
      "outputs": [
        {
          "execution_count": 3,
          "output_type": "execute_result",
          "data": {
            "text/plain": "44"
          },
          "metadata": {}
        }
      ]
    },
    {
      "cell_type": "code",
      "source": "# This will convert 200 minutes to hours by dividing by 60 -\nminutes = 200\nhours = minutes/60\nprint(hours)",
      "metadata": {
        "trusted": true
      },
      "execution_count": 4,
      "outputs": [
        {
          "name": "stdout",
          "text": "3.3333333333333335\n",
          "output_type": "stream"
        }
      ]
    },
    {
      "cell_type": "markdown",
      "source": "**Objectives:**\n- List of popular languages for Data Science.\n  \n  - Python  \n  - R  \n  - SQL  \n  - Julia  \n  - MATLAB  ",
      "metadata": {}
    },
    {
      "cell_type": "markdown",
      "source": "## Author  \nFrederick Lawrence Duff",
      "metadata": {}
    },
    {
      "cell_type": "code",
      "source": "",
      "metadata": {},
      "execution_count": null,
      "outputs": []
    }
  ]
}